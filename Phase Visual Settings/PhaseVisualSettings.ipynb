{
 "cells": [
  {
   "cell_type": "code",
   "execution_count": 1,
   "metadata": {},
   "outputs": [],
   "source": [
    "\n",
    "import win32com.client\n",
    "CATIA = win32com.client.Dispatch('CATIA.Application')\n",
    "myProdService = CATIA.ActiveEditor.GetService('PLMProductService')\n",
    "prdSessionService = CATIA.GetSessionService('ProductSessionService')\n",
    "oObjSelection = CATIA.ActiveEditor.Selection\n",
    "myEntities = myProdService.EditedContent"
   ]
  },
  {
   "cell_type": "code",
   "execution_count": 2,
   "metadata": {},
   "outputs": [],
   "source": [
    "oInputObjectType = ['HybridBody']\n",
    "strStatus = oObjSelection.SelectElement(oInputObjectType, 'Select a Pit Phase', False)\n",
    "oSelectedElement = oObjSelection.Item(1)\n",
    "\n",
    "HybridBody = oSelectedElement.Value\n",
    "PhaseHybridBodies = HybridBody.HybridBodies\n",
    "\n",
    "# for i in range(1, PhaseHybridBodies.Count + 1):\n",
    "#     print(PhaseHybridBodies.Item(i).Name)"
   ]
  },
  {
   "cell_type": "code",
   "execution_count": null,
   "metadata": {},
   "outputs": [],
   "source": []
  },
  {
   "cell_type": "code",
   "execution_count": 3,
   "metadata": {},
   "outputs": [],
   "source": [
    "import tkinter as tk\n",
    "from tkinter import colorchooser\n",
    "from tkinter import ttk\n",
    "\n",
    "class Form:\n",
    "    def __init__(self, master):\n",
    "        self.master = master\n",
    "        self.master.title(\"Form\")\n",
    "\n",
    "        # Toe color label and color chooser\n",
    "        tk.Label(self.master, text=\"Toe color\").grid(row=0, column=0, padx=10, pady=10)\n",
    "        self.toe_color = tk.Button(self.master, text=\"Choose color\" ,command=self.get_toe_color)\n",
    "        self.toe_color.grid(row=0, column=1, padx=10, pady=10)\n",
    "\n",
    "        # Crest color label and color chooser\n",
    "        tk.Label(self.master, text=\"Crest color\").grid(row=1, column=0, padx=10, pady=10)\n",
    "        self.crest_color = tk.Button(self.master, text=\"Choose color\", command=self.get_crest_color)\n",
    "        self.crest_color.grid(row=1, column=1, padx=10, pady=10)\n",
    "\n",
    "        # Toe line width label and drop-down menu\n",
    "        tk.Label(self.master, text=\"Toe Line width\").grid(row=2, column=0, padx=10, pady=10)\n",
    "        self.toe_width = ttk.Combobox(self.master, values=[1, 2, 3, 4, 5], state=\"readonly\")\n",
    "        self.toe_width.current(0)\n",
    "        self.toe_width.grid(row=2, column=1, padx=10, pady=10)\n",
    "\n",
    "        # Crest line width label and drop-down menu\n",
    "        tk.Label(self.master, text=\"Crest Line width\").grid(row=3, column=0, padx=10, pady=10)\n",
    "        self.crest_width = ttk.Combobox(self.master, values=[1, 2, 3, 4, 5], state=\"readonly\")\n",
    "        self.crest_width.current(1)\n",
    "        self.crest_width.grid(row=3, column=1, padx=10, pady=10)\n",
    "\n",
    "        # Toe line type label and drop-down menu\n",
    "        tk.Label(self.master, text=\"Toe line type\").grid(row=4, column=0, padx=10, pady=10)\n",
    "        self.toe_type = ttk.Combobox(self.master, values=[\"Solid\", \"Dashed\", \"Dotted\"], state=\"readonly\",)\n",
    "        self.toe_type.current(1)\n",
    "        self.toe_type.grid(row=4, column=1, padx=10, pady=10)\n",
    "\n",
    "        # Crest line type label and drop-down menu\n",
    "        tk.Label(self.master, text=\"Crest line type\").grid(row=5, column=0, padx=10, pady=10)\n",
    "        self.crest_type = ttk.Combobox(self.master, values=[\"Solid\", \"Dashed\", \"Dotted\"], state=\"readonly\")\n",
    "        self.crest_type.current(0)\n",
    "        self.crest_type.grid(row=5, column=1, padx=10, pady=10)\n",
    "\n",
    "        # OK and Cancel\n",
    "        # OK and Cancel buttons\n",
    "        self.ok_button = tk.Button(self.master, text=\"OK\", command=self.print_params)\n",
    "        self.ok_button.grid(row=6, column=0, padx=10, pady=10)\n",
    "        self.cancel_button = tk.Button(self.master, text=\"Cancel\", command=self.master.quit)\n",
    "        self.cancel_button.grid(row=6, column=1, padx=10, pady=10)\n",
    "        self.line_dict = {\"Dotted\": 6, \"Solid\": 1, \"Dashed\": 3}\n",
    "\n",
    "    def get_toe_color(self):\n",
    "        color = colorchooser.askcolor()[1]\n",
    "        self.toe_color.config(bg=color)\n",
    "\n",
    "    def get_crest_color(self):\n",
    "        color = colorchooser.askcolor()[1]\n",
    "        self.crest_color.config(bg=color)\n",
    "\n",
    "    def hex_to_rgb(self, hex):\n",
    "        rgb = []\n",
    "        for i in (0, 2, 4):\n",
    "            decimal = int(hex[i:i+2], 16)\n",
    "            rgb.append(decimal)\n",
    "        return tuple(rgb)\n",
    "\n",
    "    def print_params(self):\n",
    "        self.toe_color = self.toe_color.cget(\"bg\")\n",
    "        self.crest_color = self.crest_color.cget(\"bg\")\n",
    "        self.toe_width = self.toe_width.get()\n",
    "        self.crest_width = self.crest_width.get()\n",
    "        self.toe_type = self.toe_type.get()\n",
    "        self.crest_type = self.crest_type.get()\n",
    "        self.master.destroy()\n",
    "\n",
    "root = tk.Tk()\n",
    "form = Form(root)\n",
    "root.mainloop()\n",
    "toe_color = form.hex_to_rgb(form.toe_color[1:])\n",
    "crest_color = form.hex_to_rgb(form.crest_color[1:])\n"
   ]
  },
  {
   "cell_type": "code",
   "execution_count": 4,
   "metadata": {},
   "outputs": [],
   "source": [
    "properties = oObjSelection.VisProperties\n",
    "for i in range(1, PhaseHybridBodies.Count + 1):\n",
    "    BenchHybridBodies = PhaseHybridBodies.Item(i).HybridBodies\n",
    "    for k in range(1, BenchHybridBodies.Count + 1):\n",
    "        BenchHybridShapes = BenchHybridBodies.Item(k).HybridShapes\n",
    "        for j in range(1, BenchHybridShapes.Count + 1):\n",
    "            if ('Crest'in BenchHybridShapes.Item(j).Name) or ('Ramp Contour'in BenchHybridShapes.Item(j).Name):\n",
    "                oObjSelection.Add(BenchHybridShapes.Item(j))\n",
    "                properties.SetRealColor(crest_color[0], crest_color[1], crest_color[2], 0)\n",
    "                properties.SetVisibleLineType(form.line_dict[form.crest_type], 0)\n",
    "                properties.SetRealWidth(int(form.crest_width), 0)\n",
    "                oObjSelection.Clear()\n",
    "            else:\n",
    "                oObjSelection.Add(BenchHybridShapes.Item(j))\n",
    "                properties.SetRealColor(toe_color[0], toe_color[1], toe_color[2], 0)\n",
    "                properties.SetVisibleLineType(form.line_dict[form.toe_type], 0)\n",
    "                properties.SetRealWidth(int(form.toe_width), 0)\n",
    "                oObjSelection.Clear()\n",
    "\n"
   ]
  },
  {
   "cell_type": "code",
   "execution_count": 5,
   "metadata": {},
   "outputs": [
    {
     "name": "stdout",
     "output_type": "stream",
     "text": [
      "Help on method Cut in module win32com.client.dynamic:\n",
      "\n",
      "Cut() method of win32com.client.CDispatch instance\n",
      "\n",
      "['AddRef', 'AppendHybridShape', 'Application', 'ChangeComponentState', 'Compute', 'Destructor', 'GetIDsOfNames', 'GetImpl', 'GetItem', 'GetMetaObject', 'GetTypeInfo', 'GetTypeInfoCount', 'Invoke', 'IsA', 'IsAKindOf', 'IsEqual', 'IsNull', 'Name', 'Parent', 'QueryInterface', 'Release', 'SetImpl', 'SurChargeQI', 'Thickness', '_ApplyTypes_', '_FlagAsMethod', '_LazyAddAttr_', '_NewEnum', '_Release_', '_UpdateWithITypeInfo_', '__AttrToID__', '__LazyMap__', '__bool__', '__call__', '__class__', '__delattr__', '__dict__', '__dir__', '__doc__', '__eq__', '__format__', '__ge__', '__getattr__', '__getattribute__', '__getitem__', '__gt__', '__hash__', '__init__', '__init_subclass__', '__int__', '__le__', '__len__', '__lt__', '__module__', '__ne__', '__new__', '__reduce__', '__reduce_ex__', '__repr__', '__setattr__', '__setitem__', '__sizeof__', '__str__', '__subclasshook__', '__weakref__', '_builtMethods_', '_dir_ole_', '_enum_', '_find_dispatch_type_', '_get_good_object_', '_get_good_single_object_', '_lazydata_', '_make_method_', '_mapCachedItems_', '_oleobj_', '_olerepr_', '_print_details_', '_proc_', '_unicode_to_string_', '_username_', '_wrap_dispatch_']\n"
     ]
    },
    {
     "ename": "TypeError",
     "evalue": "int() argument must be a string, a bytes-like object or a number, not 'NoneType'",
     "output_type": "error",
     "traceback": [
      "\u001b[1;31m---------------------------------------------------------------------------\u001b[0m",
      "\u001b[1;31mTypeError\u001b[0m                                 Traceback (most recent call last)",
      "\u001b[1;32m~\\AppData\\Local\\Temp\\ipykernel_14672\\1091590819.py\u001b[0m in \u001b[0;36m<module>\u001b[1;34m\u001b[0m\n\u001b[0;32m      3\u001b[0m \u001b[0mhelp\u001b[0m\u001b[1;33m(\u001b[0m\u001b[0moObjSelection\u001b[0m\u001b[1;33m.\u001b[0m\u001b[0mCut\u001b[0m\u001b[1;33m)\u001b[0m\u001b[1;33m\u001b[0m\u001b[0m\n\u001b[0;32m      4\u001b[0m \u001b[0mprint\u001b[0m\u001b[1;33m(\u001b[0m\u001b[0mdir\u001b[0m\u001b[1;33m(\u001b[0m\u001b[0mBenchHybridShapes\u001b[0m\u001b[1;33m.\u001b[0m\u001b[0mItem\u001b[0m\u001b[1;33m(\u001b[0m\u001b[1;36m1\u001b[0m\u001b[1;33m)\u001b[0m\u001b[1;33m)\u001b[0m\u001b[1;33m)\u001b[0m\u001b[1;33m\u001b[0m\u001b[0m\n\u001b[1;32m----> 5\u001b[1;33m \u001b[0mprint\u001b[0m\u001b[1;33m(\u001b[0m\u001b[0mBenchHybridShapes\u001b[0m\u001b[1;33m.\u001b[0m\u001b[0mItem\u001b[0m\u001b[1;33m(\u001b[0m\u001b[1;36m1\u001b[0m\u001b[1;33m)\u001b[0m\u001b[1;33m.\u001b[0m\u001b[0mGetTypeInfo\u001b[0m\u001b[1;33m(\u001b[0m\u001b[1;33m)\u001b[0m\u001b[1;33m)\u001b[0m\u001b[1;33m\u001b[0m\u001b[0m\n\u001b[0m",
      "\u001b[1;32m~\\.virtualenvs\\Python37-FPTyktwW\\Lib\\site-packages\\win32com\\client\\dynamic.py\u001b[0m in \u001b[0;36mGetTypeInfo\u001b[1;34m(self, itinfo, lcid, pptinfo)\u001b[0m\n",
      "\u001b[1;32m~\\.virtualenvs\\Python37-FPTyktwW\\Lib\\site-packages\\win32com\\client\\dynamic.py\u001b[0m in \u001b[0;36m_ApplyTypes_\u001b[1;34m(self, dispid, wFlags, retType, argTypes, user, resultCLSID, *args)\u001b[0m\n\u001b[0;32m    367\u001b[0m     \u001b[1;32mdef\u001b[0m \u001b[0m_ApplyTypes_\u001b[0m\u001b[1;33m(\u001b[0m\u001b[0mself\u001b[0m\u001b[1;33m,\u001b[0m \u001b[0mdispid\u001b[0m\u001b[1;33m,\u001b[0m \u001b[0mwFlags\u001b[0m\u001b[1;33m,\u001b[0m \u001b[0mretType\u001b[0m\u001b[1;33m,\u001b[0m \u001b[0margTypes\u001b[0m\u001b[1;33m,\u001b[0m \u001b[0muser\u001b[0m\u001b[1;33m,\u001b[0m \u001b[0mresultCLSID\u001b[0m\u001b[1;33m,\u001b[0m \u001b[1;33m*\u001b[0m\u001b[0margs\u001b[0m\u001b[1;33m)\u001b[0m\u001b[1;33m:\u001b[0m\u001b[1;33m\u001b[0m\u001b[0m\n\u001b[0;32m    368\u001b[0m         result = self._oleobj_.InvokeTypes(\n\u001b[1;32m--> 369\u001b[1;33m             \u001b[1;33m*\u001b[0m\u001b[1;33m(\u001b[0m\u001b[0mdispid\u001b[0m\u001b[1;33m,\u001b[0m \u001b[0mLCID\u001b[0m\u001b[1;33m,\u001b[0m \u001b[0mwFlags\u001b[0m\u001b[1;33m,\u001b[0m \u001b[0mretType\u001b[0m\u001b[1;33m,\u001b[0m \u001b[0margTypes\u001b[0m\u001b[1;33m)\u001b[0m \u001b[1;33m+\u001b[0m \u001b[0margs\u001b[0m\u001b[1;33m\u001b[0m\u001b[0m\n\u001b[0m\u001b[0;32m    370\u001b[0m         )\n\u001b[0;32m    371\u001b[0m         \u001b[1;32mreturn\u001b[0m \u001b[0mself\u001b[0m\u001b[1;33m.\u001b[0m\u001b[0m_get_good_object_\u001b[0m\u001b[1;33m(\u001b[0m\u001b[0mresult\u001b[0m\u001b[1;33m,\u001b[0m \u001b[0muser\u001b[0m\u001b[1;33m,\u001b[0m \u001b[0mresultCLSID\u001b[0m\u001b[1;33m)\u001b[0m\u001b[1;33m\u001b[0m\u001b[0m\n",
      "\u001b[1;31mTypeError\u001b[0m: int() argument must be a string, a bytes-like object or a number, not 'NoneType'"
     ]
    }
   ],
   "source": [
    "# dir(properties)\n",
    "# dir(oObjSelection)\n",
    "help(oObjSelection.Cut)\n",
    "print(dir(BenchHybridShapes.Item(1)))\n",
    "print(BenchHybridShapes.Item(1).GetTypeInfo())"
   ]
  }
 ],
 "metadata": {
  "kernelspec": {
   "display_name": "Python 3",
   "language": "python",
   "name": "python3"
  },
  "language_info": {
   "codemirror_mode": {
    "name": "ipython",
    "version": 3
   },
   "file_extension": ".py",
   "mimetype": "text/x-python",
   "name": "python",
   "nbconvert_exporter": "python",
   "pygments_lexer": "ipython3",
   "version": "3.7.0 (v3.7.0:1bf9cc5093, Jun 27 2018, 04:59:51) [MSC v.1914 64 bit (AMD64)]"
  },
  "orig_nbformat": 4,
  "vscode": {
   "interpreter": {
    "hash": "a760b4fcb8fe5c6d18f586382e41f87d1d595a2813857dbf3e4b25e330482e4e"
   }
  }
 },
 "nbformat": 4,
 "nbformat_minor": 2
}
